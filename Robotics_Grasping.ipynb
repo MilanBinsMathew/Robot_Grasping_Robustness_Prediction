{
  "nbformat": 4,
  "nbformat_minor": 0,
  "metadata": {
    "colab": {
      "name": "Robotics_Grasping.ipynb",
      "provenance": [],
      "collapsed_sections": [],
      "authorship_tag": "ABX9TyMfbxbdLGsc2pb6GdfWCuqB"
    },
    "kernelspec": {
      "name": "python3",
      "display_name": "Python 3"
    },
    "language_info": {
      "name": "python"
    }
  },
  "cells": [
    {
      "cell_type": "markdown",
      "metadata": {
        "id": "DqIvIHv5csJL"
      },
      "source": [
        "Loading Necessary Modules"
      ]
    },
    {
      "cell_type": "code",
      "metadata": {
        "id": "TaWihczg_ryh"
      },
      "source": [
        "import pandas as pd\n",
        "import tensorflow as tf\n",
        "import numpy as np\n",
        "import matplotlib.pyplot as plt\n"
      ],
      "execution_count": null,
      "outputs": []
    },
    {
      "cell_type": "markdown",
      "metadata": {
        "id": "ehcledBCAjE0"
      },
      "source": [
        "Loading Dataset"
      ]
    },
    {
      "cell_type": "code",
      "metadata": {
        "colab": {
          "base_uri": "https://localhost:8080/",
          "height": 226
        },
        "id": "8ibQzSO1Al4H",
        "outputId": "263de7b5-e65f-4bc4-d842-5563beb113cd"
      },
      "source": [
        "url = 'https://raw.githubusercontent.com/MilanBinsMathew/Robot_Grasping_Robustness_Prediction/main/shadow_robot_dataset.csv'\n",
        "\n",
        "dataset = pd.read_csv(url)\n",
        "dataset.head()\n",
        "\n"
      ],
      "execution_count": null,
      "outputs": [
        {
          "output_type": "execute_result",
          "data": {
            "text/html": [
              "<div>\n",
              "<style scoped>\n",
              "    .dataframe tbody tr th:only-of-type {\n",
              "        vertical-align: middle;\n",
              "    }\n",
              "\n",
              "    .dataframe tbody tr th {\n",
              "        vertical-align: top;\n",
              "    }\n",
              "\n",
              "    .dataframe thead th {\n",
              "        text-align: right;\n",
              "    }\n",
              "</style>\n",
              "<table border=\"1\" class=\"dataframe\">\n",
              "  <thead>\n",
              "    <tr style=\"text-align: right;\">\n",
              "      <th></th>\n",
              "      <th>Y</th>\n",
              "      <th>X1</th>\n",
              "      <th>X2</th>\n",
              "      <th>X3</th>\n",
              "      <th>X4</th>\n",
              "      <th>X5</th>\n",
              "      <th>X6</th>\n",
              "      <th>X7</th>\n",
              "      <th>X8</th>\n",
              "      <th>X9</th>\n",
              "      <th>X10</th>\n",
              "      <th>X11</th>\n",
              "      <th>X12</th>\n",
              "      <th>X13</th>\n",
              "      <th>X14</th>\n",
              "      <th>X15</th>\n",
              "      <th>X16</th>\n",
              "      <th>X17</th>\n",
              "      <th>X18</th>\n",
              "      <th>X19</th>\n",
              "      <th>X20</th>\n",
              "      <th>X21</th>\n",
              "      <th>X22</th>\n",
              "      <th>X23</th>\n",
              "      <th>X24</th>\n",
              "    </tr>\n",
              "  </thead>\n",
              "  <tbody>\n",
              "    <tr>\n",
              "      <th>0</th>\n",
              "      <td>85.758903</td>\n",
              "      <td>0.118209</td>\n",
              "      <td>6.838743</td>\n",
              "      <td>1.454113</td>\n",
              "      <td>0.302276</td>\n",
              "      <td>-18.738705</td>\n",
              "      <td>-0.032352</td>\n",
              "      <td>0.127232</td>\n",
              "      <td>0.040447</td>\n",
              "      <td>-0.058297</td>\n",
              "      <td>-0.011933</td>\n",
              "      <td>-0.138550</td>\n",
              "      <td>0.053953</td>\n",
              "      <td>-7.091730</td>\n",
              "      <td>0.338437</td>\n",
              "      <td>21.305433</td>\n",
              "      <td>0.544194</td>\n",
              "      <td>0.109246</td>\n",
              "      <td>0.042166</td>\n",
              "      <td>0.041517</td>\n",
              "      <td>0.439459</td>\n",
              "      <td>-13.975613</td>\n",
              "      <td>0.177114</td>\n",
              "      <td>5.456443</td>\n",
              "      <td>1.493776</td>\n",
              "    </tr>\n",
              "    <tr>\n",
              "      <th>1</th>\n",
              "      <td>85.758903</td>\n",
              "      <td>0.152945</td>\n",
              "      <td>5.997176</td>\n",
              "      <td>1.098305</td>\n",
              "      <td>0.308893</td>\n",
              "      <td>-14.173090</td>\n",
              "      <td>-0.027381</td>\n",
              "      <td>0.273711</td>\n",
              "      <td>-0.007811</td>\n",
              "      <td>-0.059174</td>\n",
              "      <td>0.048517</td>\n",
              "      <td>-0.129178</td>\n",
              "      <td>0.010836</td>\n",
              "      <td>-10.479467</td>\n",
              "      <td>0.325636</td>\n",
              "      <td>34.575826</td>\n",
              "      <td>0.804912</td>\n",
              "      <td>0.105656</td>\n",
              "      <td>-0.130178</td>\n",
              "      <td>0.075700</td>\n",
              "      <td>0.446421</td>\n",
              "      <td>-17.618561</td>\n",
              "      <td>0.176817</td>\n",
              "      <td>5.130892</td>\n",
              "      <td>1.493497</td>\n",
              "    </tr>\n",
              "    <tr>\n",
              "      <th>2</th>\n",
              "      <td>85.758903</td>\n",
              "      <td>0.162168</td>\n",
              "      <td>5.302321</td>\n",
              "      <td>0.999142</td>\n",
              "      <td>0.314331</td>\n",
              "      <td>-13.093510</td>\n",
              "      <td>-0.025808</td>\n",
              "      <td>0.184343</td>\n",
              "      <td>-0.024433</td>\n",
              "      <td>-0.057710</td>\n",
              "      <td>0.099157</td>\n",
              "      <td>-0.143311</td>\n",
              "      <td>0.003063</td>\n",
              "      <td>-10.756263</td>\n",
              "      <td>0.315799</td>\n",
              "      <td>31.028958</td>\n",
              "      <td>0.867840</td>\n",
              "      <td>0.103620</td>\n",
              "      <td>-0.162815</td>\n",
              "      <td>0.095730</td>\n",
              "      <td>0.439690</td>\n",
              "      <td>-13.031110</td>\n",
              "      <td>0.174343</td>\n",
              "      <td>5.650662</td>\n",
              "      <td>1.523433</td>\n",
              "    </tr>\n",
              "    <tr>\n",
              "      <th>3</th>\n",
              "      <td>85.758903</td>\n",
              "      <td>0.137684</td>\n",
              "      <td>6.504519</td>\n",
              "      <td>1.256002</td>\n",
              "      <td>0.304333</td>\n",
              "      <td>-16.948796</td>\n",
              "      <td>-0.027398</td>\n",
              "      <td>0.121100</td>\n",
              "      <td>-0.009160</td>\n",
              "      <td>-0.056178</td>\n",
              "      <td>0.081461</td>\n",
              "      <td>-0.158807</td>\n",
              "      <td>0.026105</td>\n",
              "      <td>-9.433894</td>\n",
              "      <td>0.324489</td>\n",
              "      <td>27.353780</td>\n",
              "      <td>0.744199</td>\n",
              "      <td>0.106332</td>\n",
              "      <td>-0.186364</td>\n",
              "      <td>0.068382</td>\n",
              "      <td>0.445833</td>\n",
              "      <td>-11.763374</td>\n",
              "      <td>0.180723</td>\n",
              "      <td>5.267410</td>\n",
              "      <td>1.455800</td>\n",
              "    </tr>\n",
              "    <tr>\n",
              "      <th>4</th>\n",
              "      <td>85.758903</td>\n",
              "      <td>0.161747</td>\n",
              "      <td>4.899113</td>\n",
              "      <td>0.999313</td>\n",
              "      <td>0.315815</td>\n",
              "      <td>-13.700695</td>\n",
              "      <td>-0.025698</td>\n",
              "      <td>0.079876</td>\n",
              "      <td>-0.026569</td>\n",
              "      <td>-0.057618</td>\n",
              "      <td>0.153013</td>\n",
              "      <td>-0.143695</td>\n",
              "      <td>0.003519</td>\n",
              "      <td>-10.523774</td>\n",
              "      <td>0.322725</td>\n",
              "      <td>32.159343</td>\n",
              "      <td>0.809915</td>\n",
              "      <td>0.104104</td>\n",
              "      <td>-0.216307</td>\n",
              "      <td>0.090358</td>\n",
              "      <td>0.438578</td>\n",
              "      <td>-15.347191</td>\n",
              "      <td>0.164628</td>\n",
              "      <td>6.339569</td>\n",
              "      <td>1.627478</td>\n",
              "    </tr>\n",
              "  </tbody>\n",
              "</table>\n",
              "</div>"
            ],
            "text/plain": [
              "           Y        X1        X2  ...       X22       X23       X24\n",
              "0  85.758903  0.118209  6.838743  ...  0.177114  5.456443  1.493776\n",
              "1  85.758903  0.152945  5.997176  ...  0.176817  5.130892  1.493497\n",
              "2  85.758903  0.162168  5.302321  ...  0.174343  5.650662  1.523433\n",
              "3  85.758903  0.137684  6.504519  ...  0.180723  5.267410  1.455800\n",
              "4  85.758903  0.161747  4.899113  ...  0.164628  6.339569  1.627478\n",
              "\n",
              "[5 rows x 25 columns]"
            ]
          },
          "metadata": {},
          "execution_count": 5
        }
      ]
    },
    {
      "cell_type": "markdown",
      "metadata": {
        "id": "qR3RXsI2Dg5l"
      },
      "source": [
        "Seperating Target & Features\n",
        "\n",
        "Splitting the dataset into Test and Training (1:4)"
      ]
    },
    {
      "cell_type": "code",
      "metadata": {
        "id": "KS5WPOa1DlH3"
      },
      "source": [
        "from sklearn.model_selection import train_test_split\n",
        "\n",
        "X = dataset.drop(['Y'], axis = 1).values\n",
        "Y = dataset['Y'].values\n",
        "\n",
        "\n",
        "X_train, X_test, Y_train, Y_test = train_test_split(X, Y, test_size=0.2, random_state = 2)"
      ],
      "execution_count": null,
      "outputs": []
    },
    {
      "cell_type": "markdown",
      "metadata": {
        "id": "pzDPtnnVEVBV"
      },
      "source": [
        "Modelling"
      ]
    },
    {
      "cell_type": "code",
      "metadata": {
        "id": "SxnWOKSjEWbP"
      },
      "source": [
        "from tensorflow.keras.models import Sequential\n",
        "from tensorflow.keras.layers import Dense, Activation, BatchNormalization, Dropout\n",
        "from tensorflow.keras.optimizers import Adam\n",
        "from tensorflow.keras.losses import LogCosh\n",
        "from tensorflow.keras.regularizers import l2\n"
      ],
      "execution_count": null,
      "outputs": []
    },
    {
      "cell_type": "code",
      "metadata": {
        "colab": {
          "base_uri": "https://localhost:8080/"
        },
        "id": "VOJikxkXFi0B",
        "outputId": "afe5cdb7-ee0f-4fdc-a587-d3fd900ad093"
      },
      "source": [
        "model = Sequential([\n",
        "                    Dense(32, activation = 'relu', input_shape = (24,)),\n",
        "                    BatchNormalization(),\n",
        "                    Dense(32, activation ='relu'),\n",
        "                    Dense(64, activation ='relu'),\n",
        "                    Dropout(0.2),\n",
        "                    Dense(64, activation ='relu'),\n",
        "                    Dropout(0.2),\n",
        "                    Dense(32, activation ='relu'),\n",
        "                    Dense(1)\n",
        "\n",
        "])\n",
        "\n",
        "opt = Adam(learning_rate = 0.0001)\n",
        "\n",
        "model.compile(optimizer = opt, loss = 'logcosh')\n",
        "model.summary()"
      ],
      "execution_count": null,
      "outputs": [
        {
          "output_type": "stream",
          "name": "stdout",
          "text": [
            "Model: \"sequential\"\n",
            "_________________________________________________________________\n",
            " Layer (type)                Output Shape              Param #   \n",
            "=================================================================\n",
            " dense (Dense)               (None, 32)                800       \n",
            "                                                                 \n",
            " batch_normalization (BatchN  (None, 32)               128       \n",
            " ormalization)                                                   \n",
            "                                                                 \n",
            " dense_1 (Dense)             (None, 32)                1056      \n",
            "                                                                 \n",
            " dense_2 (Dense)             (None, 64)                2112      \n",
            "                                                                 \n",
            " dropout (Dropout)           (None, 64)                0         \n",
            "                                                                 \n",
            " dense_3 (Dense)             (None, 64)                4160      \n",
            "                                                                 \n",
            " dropout_1 (Dropout)         (None, 64)                0         \n",
            "                                                                 \n",
            " dense_4 (Dense)             (None, 32)                2080      \n",
            "                                                                 \n",
            " dense_5 (Dense)             (None, 1)                 33        \n",
            "                                                                 \n",
            "=================================================================\n",
            "Total params: 10,369\n",
            "Trainable params: 10,305\n",
            "Non-trainable params: 64\n",
            "_________________________________________________________________\n"
          ]
        }
      ]
    },
    {
      "cell_type": "code",
      "metadata": {
        "colab": {
          "base_uri": "https://localhost:8080/"
        },
        "id": "NtpOKshMKS0j",
        "outputId": "4d860347-dcd5-4186-a92b-f86778554d76"
      },
      "source": [
        "history = model.fit(x = X_train, y = Y_train, validation_data = (X_test, Y_test), epochs = 120, batch_size = 32)"
      ],
      "execution_count": null,
      "outputs": [
        {
          "output_type": "stream",
          "name": "stdout",
          "text": [
            "Epoch 1/120\n",
            "63/63 [==============================] - 1s 6ms/step - loss: 77.7325 - val_loss: 78.8539\n",
            "Epoch 2/120\n",
            "63/63 [==============================] - 0s 4ms/step - loss: 76.8117 - val_loss: 77.4954\n",
            "Epoch 3/120\n",
            "63/63 [==============================] - 0s 3ms/step - loss: 74.7326 - val_loss: 74.1106\n",
            "Epoch 4/120\n",
            "63/63 [==============================] - 0s 3ms/step - loss: 69.3938 - val_loss: 65.5866\n",
            "Epoch 5/120\n",
            "63/63 [==============================] - 0s 4ms/step - loss: 56.9274 - val_loss: 47.0545\n",
            "Epoch 6/120\n",
            "63/63 [==============================] - 0s 3ms/step - loss: 39.0917 - val_loss: 28.4665\n",
            "Epoch 7/120\n",
            "63/63 [==============================] - 0s 4ms/step - loss: 27.8942 - val_loss: 19.0811\n",
            "Epoch 8/120\n",
            "63/63 [==============================] - 0s 3ms/step - loss: 22.6091 - val_loss: 17.6982\n",
            "Epoch 9/120\n",
            "63/63 [==============================] - 0s 3ms/step - loss: 22.1872 - val_loss: 17.2843\n",
            "Epoch 10/120\n",
            "63/63 [==============================] - 0s 3ms/step - loss: 21.6722 - val_loss: 17.2889\n",
            "Epoch 11/120\n",
            "63/63 [==============================] - 0s 3ms/step - loss: 21.5884 - val_loss: 16.9256\n",
            "Epoch 12/120\n",
            "63/63 [==============================] - 0s 3ms/step - loss: 20.7430 - val_loss: 16.7914\n",
            "Epoch 13/120\n",
            "63/63 [==============================] - 0s 3ms/step - loss: 20.3175 - val_loss: 16.3774\n",
            "Epoch 14/120\n",
            "63/63 [==============================] - 0s 3ms/step - loss: 19.6610 - val_loss: 16.0850\n",
            "Epoch 15/120\n",
            "63/63 [==============================] - 0s 3ms/step - loss: 20.8251 - val_loss: 16.0936\n",
            "Epoch 16/120\n",
            "63/63 [==============================] - 0s 3ms/step - loss: 20.1008 - val_loss: 16.2185\n",
            "Epoch 17/120\n",
            "63/63 [==============================] - 0s 4ms/step - loss: 20.5037 - val_loss: 15.7078\n",
            "Epoch 18/120\n",
            "63/63 [==============================] - 0s 3ms/step - loss: 20.0226 - val_loss: 15.8597\n",
            "Epoch 19/120\n",
            "63/63 [==============================] - 0s 3ms/step - loss: 20.1139 - val_loss: 15.4821\n",
            "Epoch 20/120\n",
            "63/63 [==============================] - 0s 4ms/step - loss: 19.4582 - val_loss: 15.3544\n",
            "Epoch 21/120\n",
            "63/63 [==============================] - 0s 3ms/step - loss: 20.2653 - val_loss: 15.5050\n",
            "Epoch 22/120\n",
            "63/63 [==============================] - 0s 3ms/step - loss: 20.6138 - val_loss: 15.3642\n",
            "Epoch 23/120\n",
            "63/63 [==============================] - 0s 3ms/step - loss: 19.4492 - val_loss: 15.1992\n",
            "Epoch 24/120\n",
            "63/63 [==============================] - 0s 3ms/step - loss: 19.5790 - val_loss: 15.3140\n",
            "Epoch 25/120\n",
            "63/63 [==============================] - 0s 3ms/step - loss: 20.0572 - val_loss: 15.2702\n",
            "Epoch 26/120\n",
            "63/63 [==============================] - 0s 3ms/step - loss: 19.6933 - val_loss: 14.9751\n",
            "Epoch 27/120\n",
            "63/63 [==============================] - 0s 3ms/step - loss: 20.5071 - val_loss: 15.0783\n",
            "Epoch 28/120\n",
            "63/63 [==============================] - 0s 3ms/step - loss: 19.6989 - val_loss: 14.9776\n",
            "Epoch 29/120\n",
            "63/63 [==============================] - 0s 3ms/step - loss: 18.5330 - val_loss: 14.9850\n",
            "Epoch 30/120\n",
            "63/63 [==============================] - 0s 3ms/step - loss: 19.5334 - val_loss: 14.8456\n",
            "Epoch 31/120\n",
            "63/63 [==============================] - 0s 3ms/step - loss: 19.6764 - val_loss: 14.8189\n",
            "Epoch 32/120\n",
            "63/63 [==============================] - 0s 4ms/step - loss: 19.1317 - val_loss: 14.7459\n",
            "Epoch 33/120\n",
            "63/63 [==============================] - 0s 3ms/step - loss: 19.1594 - val_loss: 14.5854\n",
            "Epoch 34/120\n",
            "63/63 [==============================] - 0s 3ms/step - loss: 19.4809 - val_loss: 14.6338\n",
            "Epoch 35/120\n",
            "63/63 [==============================] - 0s 3ms/step - loss: 18.5795 - val_loss: 14.5216\n",
            "Epoch 36/120\n",
            "63/63 [==============================] - 0s 4ms/step - loss: 19.1838 - val_loss: 14.5167\n",
            "Epoch 37/120\n",
            "63/63 [==============================] - 0s 3ms/step - loss: 19.2113 - val_loss: 14.3808\n",
            "Epoch 38/120\n",
            "63/63 [==============================] - 0s 3ms/step - loss: 18.4648 - val_loss: 14.4899\n",
            "Epoch 39/120\n",
            "63/63 [==============================] - 0s 3ms/step - loss: 18.7694 - val_loss: 14.4923\n",
            "Epoch 40/120\n",
            "63/63 [==============================] - 0s 3ms/step - loss: 18.6905 - val_loss: 14.4237\n",
            "Epoch 41/120\n",
            "63/63 [==============================] - 0s 4ms/step - loss: 17.9475 - val_loss: 14.0689\n",
            "Epoch 42/120\n",
            "63/63 [==============================] - 0s 3ms/step - loss: 18.8496 - val_loss: 14.1585\n",
            "Epoch 43/120\n",
            "63/63 [==============================] - 0s 3ms/step - loss: 18.1927 - val_loss: 13.8866\n",
            "Epoch 44/120\n",
            "63/63 [==============================] - 0s 3ms/step - loss: 19.1424 - val_loss: 14.0656\n",
            "Epoch 45/120\n",
            "63/63 [==============================] - 0s 3ms/step - loss: 19.1917 - val_loss: 14.0964\n",
            "Epoch 46/120\n",
            "63/63 [==============================] - 0s 3ms/step - loss: 18.1189 - val_loss: 13.7859\n",
            "Epoch 47/120\n",
            "63/63 [==============================] - 0s 3ms/step - loss: 18.7603 - val_loss: 13.8601\n",
            "Epoch 48/120\n",
            "63/63 [==============================] - 0s 3ms/step - loss: 18.1590 - val_loss: 13.6856\n",
            "Epoch 49/120\n",
            "63/63 [==============================] - 0s 3ms/step - loss: 18.5059 - val_loss: 13.8568\n",
            "Epoch 50/120\n",
            "63/63 [==============================] - 0s 3ms/step - loss: 19.4075 - val_loss: 13.6736\n",
            "Epoch 51/120\n",
            "63/63 [==============================] - 0s 4ms/step - loss: 17.5748 - val_loss: 13.5376\n",
            "Epoch 52/120\n",
            "63/63 [==============================] - 0s 3ms/step - loss: 18.6500 - val_loss: 13.6298\n",
            "Epoch 53/120\n",
            "63/63 [==============================] - 0s 3ms/step - loss: 18.1900 - val_loss: 13.3402\n",
            "Epoch 54/120\n",
            "63/63 [==============================] - 0s 3ms/step - loss: 18.0632 - val_loss: 13.5525\n",
            "Epoch 55/120\n",
            "63/63 [==============================] - 0s 3ms/step - loss: 18.2616 - val_loss: 13.3470\n",
            "Epoch 56/120\n",
            "63/63 [==============================] - 0s 3ms/step - loss: 18.0842 - val_loss: 13.2283\n",
            "Epoch 57/120\n",
            "63/63 [==============================] - 0s 3ms/step - loss: 17.8942 - val_loss: 13.1261\n",
            "Epoch 58/120\n",
            "63/63 [==============================] - 0s 3ms/step - loss: 17.9924 - val_loss: 13.2245\n",
            "Epoch 59/120\n",
            "63/63 [==============================] - 0s 3ms/step - loss: 17.6069 - val_loss: 13.0999\n",
            "Epoch 60/120\n",
            "63/63 [==============================] - 0s 3ms/step - loss: 17.2618 - val_loss: 12.9360\n",
            "Epoch 61/120\n",
            "63/63 [==============================] - 0s 3ms/step - loss: 17.5078 - val_loss: 12.7651\n",
            "Epoch 62/120\n",
            "63/63 [==============================] - 0s 4ms/step - loss: 17.1016 - val_loss: 13.0251\n",
            "Epoch 63/120\n",
            "63/63 [==============================] - 0s 3ms/step - loss: 17.4315 - val_loss: 12.7631\n",
            "Epoch 64/120\n",
            "63/63 [==============================] - 0s 3ms/step - loss: 17.1298 - val_loss: 12.6479\n",
            "Epoch 65/120\n",
            "63/63 [==============================] - 0s 3ms/step - loss: 16.8791 - val_loss: 12.5282\n",
            "Epoch 66/120\n",
            "63/63 [==============================] - 0s 3ms/step - loss: 17.6724 - val_loss: 12.7596\n",
            "Epoch 67/120\n",
            "63/63 [==============================] - 0s 4ms/step - loss: 17.4322 - val_loss: 12.5206\n",
            "Epoch 68/120\n",
            "63/63 [==============================] - 0s 3ms/step - loss: 18.0400 - val_loss: 12.5900\n",
            "Epoch 69/120\n",
            "63/63 [==============================] - 0s 3ms/step - loss: 17.6039 - val_loss: 12.5782\n",
            "Epoch 70/120\n",
            "63/63 [==============================] - 0s 3ms/step - loss: 17.8278 - val_loss: 12.5587\n",
            "Epoch 71/120\n",
            "63/63 [==============================] - 0s 3ms/step - loss: 16.9274 - val_loss: 12.5198\n",
            "Epoch 72/120\n",
            "63/63 [==============================] - 0s 3ms/step - loss: 17.7611 - val_loss: 12.4471\n",
            "Epoch 73/120\n",
            "63/63 [==============================] - 0s 3ms/step - loss: 17.3637 - val_loss: 12.3521\n",
            "Epoch 74/120\n",
            "63/63 [==============================] - 0s 3ms/step - loss: 17.1757 - val_loss: 12.2253\n",
            "Epoch 75/120\n",
            "63/63 [==============================] - 0s 3ms/step - loss: 17.3545 - val_loss: 12.3730\n",
            "Epoch 76/120\n",
            "63/63 [==============================] - 0s 3ms/step - loss: 17.1358 - val_loss: 12.2700\n",
            "Epoch 77/120\n",
            "63/63 [==============================] - 0s 3ms/step - loss: 17.3240 - val_loss: 12.2257\n",
            "Epoch 78/120\n",
            "63/63 [==============================] - 0s 3ms/step - loss: 17.3677 - val_loss: 12.1123\n",
            "Epoch 79/120\n",
            "63/63 [==============================] - 0s 3ms/step - loss: 16.8182 - val_loss: 12.0285\n",
            "Epoch 80/120\n",
            "63/63 [==============================] - 0s 3ms/step - loss: 16.6443 - val_loss: 11.9703\n",
            "Epoch 81/120\n",
            "63/63 [==============================] - 0s 3ms/step - loss: 16.1995 - val_loss: 11.8927\n",
            "Epoch 82/120\n",
            "63/63 [==============================] - 0s 4ms/step - loss: 17.5798 - val_loss: 11.9728\n",
            "Epoch 83/120\n",
            "63/63 [==============================] - 0s 3ms/step - loss: 16.8527 - val_loss: 11.8487\n",
            "Epoch 84/120\n",
            "63/63 [==============================] - 0s 3ms/step - loss: 16.5936 - val_loss: 11.8417\n",
            "Epoch 85/120\n",
            "63/63 [==============================] - 0s 3ms/step - loss: 17.3881 - val_loss: 11.8443\n",
            "Epoch 86/120\n",
            "63/63 [==============================] - 0s 3ms/step - loss: 16.5725 - val_loss: 11.8222\n",
            "Epoch 87/120\n",
            "63/63 [==============================] - 0s 3ms/step - loss: 17.2071 - val_loss: 11.7500\n",
            "Epoch 88/120\n",
            "63/63 [==============================] - 0s 3ms/step - loss: 16.6176 - val_loss: 11.8520\n",
            "Epoch 89/120\n",
            "63/63 [==============================] - 0s 3ms/step - loss: 16.6399 - val_loss: 11.7326\n",
            "Epoch 90/120\n",
            "63/63 [==============================] - 0s 3ms/step - loss: 15.9955 - val_loss: 11.6609\n",
            "Epoch 91/120\n",
            "63/63 [==============================] - 0s 3ms/step - loss: 16.3840 - val_loss: 11.6462\n",
            "Epoch 92/120\n",
            "63/63 [==============================] - 0s 3ms/step - loss: 16.6196 - val_loss: 11.6084\n",
            "Epoch 93/120\n",
            "63/63 [==============================] - 0s 3ms/step - loss: 16.2242 - val_loss: 11.5948\n",
            "Epoch 94/120\n",
            "63/63 [==============================] - 0s 3ms/step - loss: 16.5599 - val_loss: 11.5381\n",
            "Epoch 95/120\n",
            "63/63 [==============================] - 0s 4ms/step - loss: 16.8896 - val_loss: 11.5737\n",
            "Epoch 96/120\n",
            "63/63 [==============================] - 0s 3ms/step - loss: 17.2742 - val_loss: 11.4709\n",
            "Epoch 97/120\n",
            "63/63 [==============================] - 0s 3ms/step - loss: 17.0317 - val_loss: 11.4322\n",
            "Epoch 98/120\n",
            "63/63 [==============================] - 0s 3ms/step - loss: 16.2932 - val_loss: 11.6398\n",
            "Epoch 99/120\n",
            "63/63 [==============================] - 0s 3ms/step - loss: 16.7630 - val_loss: 11.3271\n",
            "Epoch 100/120\n",
            "63/63 [==============================] - 0s 3ms/step - loss: 16.4013 - val_loss: 11.3025\n",
            "Epoch 101/120\n",
            "63/63 [==============================] - 0s 3ms/step - loss: 16.4463 - val_loss: 11.3214\n",
            "Epoch 102/120\n",
            "63/63 [==============================] - 0s 3ms/step - loss: 16.2553 - val_loss: 11.4557\n",
            "Epoch 103/120\n",
            "63/63 [==============================] - 0s 3ms/step - loss: 15.8601 - val_loss: 11.4393\n",
            "Epoch 104/120\n",
            "63/63 [==============================] - 0s 3ms/step - loss: 15.7361 - val_loss: 11.2919\n",
            "Epoch 105/120\n",
            "63/63 [==============================] - 0s 3ms/step - loss: 16.1531 - val_loss: 11.2359\n",
            "Epoch 106/120\n",
            "63/63 [==============================] - 0s 3ms/step - loss: 15.8062 - val_loss: 11.1355\n",
            "Epoch 107/120\n",
            "63/63 [==============================] - 0s 3ms/step - loss: 15.9614 - val_loss: 11.0898\n",
            "Epoch 108/120\n",
            "63/63 [==============================] - 0s 3ms/step - loss: 15.9366 - val_loss: 11.0719\n",
            "Epoch 109/120\n",
            "63/63 [==============================] - 0s 4ms/step - loss: 15.8477 - val_loss: 11.0781\n",
            "Epoch 110/120\n",
            "63/63 [==============================] - 0s 3ms/step - loss: 15.6475 - val_loss: 11.0142\n",
            "Epoch 111/120\n",
            "63/63 [==============================] - 0s 3ms/step - loss: 15.9214 - val_loss: 11.0167\n",
            "Epoch 112/120\n",
            "63/63 [==============================] - 0s 3ms/step - loss: 15.5303 - val_loss: 11.0749\n",
            "Epoch 113/120\n",
            "63/63 [==============================] - 0s 3ms/step - loss: 15.4929 - val_loss: 10.9980\n",
            "Epoch 114/120\n",
            "63/63 [==============================] - 0s 4ms/step - loss: 15.2689 - val_loss: 10.8971\n",
            "Epoch 115/120\n",
            "63/63 [==============================] - 0s 3ms/step - loss: 15.6973 - val_loss: 10.9345\n",
            "Epoch 116/120\n",
            "63/63 [==============================] - 0s 3ms/step - loss: 15.6662 - val_loss: 10.9433\n",
            "Epoch 117/120\n",
            "63/63 [==============================] - 0s 3ms/step - loss: 15.7872 - val_loss: 10.9099\n",
            "Epoch 118/120\n",
            "63/63 [==============================] - 0s 3ms/step - loss: 15.6374 - val_loss: 10.8812\n",
            "Epoch 119/120\n",
            "63/63 [==============================] - 0s 3ms/step - loss: 15.5719 - val_loss: 10.7788\n",
            "Epoch 120/120\n",
            "63/63 [==============================] - 0s 3ms/step - loss: 15.3129 - val_loss: 10.7730\n"
          ]
        }
      ]
    },
    {
      "cell_type": "markdown",
      "metadata": {
        "id": "S_zGhbeYINUr"
      },
      "source": [
        "Evaluating the Results"
      ]
    },
    {
      "cell_type": "code",
      "metadata": {
        "colab": {
          "base_uri": "https://localhost:8080/",
          "height": 295
        },
        "id": "uYh01n1MIPxl",
        "outputId": "815ccfab-62ec-47be-cea2-ff7578c77cdc"
      },
      "source": [
        "fig1 = plt.gcf()\n",
        "plt.plot((history.history['loss']))\n",
        "plt.plot((history.history['val_loss']))\n",
        "plt.axis(ymax =40)\n",
        "plt.grid()\n",
        "plt.title('Model Loss')\n",
        "plt.ylabel('Loss')\n",
        "plt.xlabel('Epochs')\n",
        "plt.legend(['train', 'validation'])\n",
        "plt.show()"
      ],
      "execution_count": null,
      "outputs": [
        {
          "output_type": "display_data",
          "data": {
            "image/png": "[encoded data removed]",
            "text/plain": [
              "<Figure size 432x288 with 1 Axes>"
            ]
          },
          "metadata": {
            "needs_background": "light"
          }
        }
      ]
    },
    {
      "cell_type": "code",
      "metadata": {
        "colab": {
          "base_uri": "https://localhost:8080/"
        },
        "id": "Daec1QgJOYcK",
        "outputId": "e1947004-5c14-45bb-bf23-69b499d21e32"
      },
      "source": [
        "from sklearn.metrics import r2_score, mean_squared_error\n",
        "\n",
        "R2 = r2_score(Y_test, model.predict(X_test))\n",
        "print(\" R2 Value: \",R2)\n",
        "\n",
        "print(\" RMSE Value: \",np.sqrt(mean_squared_error(Y_test, model.predict(X_test))))\n",
        "from sklearn.metrics import mean_absolute_error\n",
        "print(\"MAE Value\",mean_absolute_error(Y_test,model.predict(X_test)))\n"
      ],
      "execution_count": null,
      "outputs": [
        {
          "output_type": "stream",
          "name": "stdout",
          "text": [
            " R2 Value:  0.8507910040933148\n",
            " RMSE Value:  18.314021635178765\n",
            "MAE Value 11.428231456273487\n"
          ]
        }
      ]
    },
    {
      "cell_type": "markdown",
      "metadata": {
        "id": "QRJoIvkHWcmJ"
      },
      "source": [
        "Predicted with the model."
      ]
    },
    {
      "cell_type": "code",
      "metadata": {
        "colab": {
          "base_uri": "https://localhost:8080/"
        },
        "id": "w0DgLMPKWadP",
        "outputId": "5aae706d-2b94-4e02-8f0d-ac9adbaa0f0f"
      },
      "source": [
        "\n",
        "n = [[0.186883876,-0.000524833,0.005539393,0.442574702,-0.000716803,-0.008966561,0.004152505,0.00744863,-0.026981752,-0.001520734,0.0003761,0.257019216,-0.008807594,0.401765447,0.012797196,0.00048434,-0.03059054,-0.003435944,-0.004661834,0.416460727,-0.011355383,0.217100611,0.005279243,0.001981114]]\n",
        "print(model.predict(n))\n",
        "\n"
      ],
      "execution_count": null,
      "outputs": [
        {
          "output_type": "stream",
          "name": "stdout",
          "text": [
            "[[11.672127]]\n"
          ]
        }
      ]
    },
    {
      "cell_type": "code",
      "metadata": {
        "colab": {
          "base_uri": "https://localhost:8080/",
          "height": 295
        },
        "id": "s13GXPIZ-PQ5",
        "outputId": "9170ea4d-b8ed-42c0-c4bd-2e34b858e6c9"
      },
      "source": [
        "itemindex = np.where(Y_test<=0.95*100)\n",
        "best_grasps = X_test[itemindex[0]]\n",
        "predictions = model.predict(X_test)\n",
        "plt.hist(predictions,\n",
        "         color='#D66751',\n",
        "         alpha=0.3,\n",
        "         label='Bad Grasps')\n",
        "plt.axis(xmin=0,xmax=75)\n",
        "plt.title('Histogram of grasp prediction')\n",
        "plt.ylabel('Number of grasps')\n",
        "plt.xlabel('Grasp quality prediction')\n",
        "plt.legend(loc='upper right')\n",
        "\n",
        "plt.show()"
      ],
      "execution_count": null,
      "outputs": [
        {
          "output_type": "display_data",
          "data": {
            "image/png": "[encoded data removed]",
            "text/plain": [
              "<Figure size 432x288 with 1 Axes>"
            ]
          },
          "metadata": {
            "needs_background": "light"
          }
        }
      ]
    },
    {
      "cell_type": "code",
      "metadata": {
        "colab": {
          "base_uri": "https://localhost:8080/",
          "height": 350
        },
        "id": "JBnT4eCfCnmi",
        "outputId": "032d7a69-8c81-4130-f395-305fb704c208"
      },
      "source": [
        "data = {'MAE':11.428, 'RMSE':18.314}\n",
        "courses = list(data.keys())\n",
        "values = list(data.values())\n",
        "  \n",
        "fig = plt.figure(figsize = (5, 5))\n",
        " \n",
        "# creating the bar plot\n",
        "plt.bar(courses, values, color ='green',\n",
        "        width = 0.2)\n",
        " \n",
        "plt.xlabel(\"Results\")\n",
        "plt.ylabel(\"Error\")\n",
        "plt.title(\"RMSE and MAE\")\n",
        "plt.show()"
      ],
      "execution_count": null,
      "outputs": [
        {
          "output_type": "display_data",
          "data": {
            "image/png": "[encoded data removed]",
            "text/plain": [
              "<Figure size 360x360 with 1 Axes>"
            ]
          },
          "metadata": {
            "needs_background": "light"
          }
        }
      ]
    }
  ]
}